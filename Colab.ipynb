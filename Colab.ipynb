{
 "cells": [
  {
   "cell_type": "code",
   "source": [
    "!nvcc --version"
   ],
   "metadata": {
    "colab": {
     "base_uri": "https://localhost:8080/"
    },
    "id": "ykYodtVcl60d",
    "outputId": "3a20792d-bd69-4e03-bd9c-90b65b4124fa"
   },
   "execution_count": 1,
   "outputs": [
    {
     "output_type": "stream",
     "name": "stdout",
     "text": [
      "nvcc: NVIDIA (R) Cuda compiler driver\n",
      "Copyright (c) 2005-2024 NVIDIA Corporation\n",
      "Built on Thu_Jun__6_02:18:23_PDT_2024\n",
      "Cuda compilation tools, release 12.5, V12.5.82\n",
      "Build cuda_12.5.r12.5/compiler.34385749_0\n"
     ]
    }
   ]
  },
  {
   "cell_type": "code",
   "execution_count": null,
   "metadata": {
    "colab": {
     "base_uri": "https://localhost:8080/"
    },
    "id": "ISN0110b5dQk",
    "outputId": "634e17bb-550b-4b4e-ee40-af7207fd768d"
   },
   "outputs": [],
   "source": "!unzip colab.zip\n\n# Optimized Python 3.10 Setup - Fully Automatic (30-60 seconds)\necho \"🐍 AUTOMATED PYTHON 3.10 SETUP\"\necho \"===============================\"\necho \"⏱️ Expected time: 30-60 seconds\"\necho \"\"\n\n# Check current Python version\nCURRENT_PYTHON=$(python3 --version 2>/dev/null || echo \"None\")\necho \"📋 Current Python: $CURRENT_PYTHON\"\n\n# Update package list (suppress harmless r2u warning)\necho \"📦 Updating package list...\"\nsudo apt-get update -y 2>/dev/null || sudo apt-get update -y\n\n# Install Python 3.10 if needed\necho \"🔧 Ensuring Python 3.10 is available...\"\nsudo apt-get install python3.10 python3-distutils -y\n\n# Configure Python 3.10 as default (NON-INTERACTIVE)\necho \"⚙️ Setting Python 3.10 as default...\"\nsudo update-alternatives --install /usr/bin/python3 python3 /usr/bin/python3.10 1\nsudo update-alternatives --set python3 /usr/bin/python3.10\n\n# Verify Python version switch\nNEW_PYTHON=$(python3 --version 2>/dev/null || echo \"Failed\")\necho \"✅ New Python version: $NEW_PYTHON\"\n\n# Install/upgrade pip for Python 3.10 if needed\nif ! python3.10 -m pip --version >/dev/null 2>&1; then\n    echo \"🔧 Installing pip for Python 3.10...\"\n    curl -sS https://bootstrap.pypa.io/get-pip.py | python3.10\nelse\n    echo \"✅ pip already available for Python 3.10\"\nfi\n\n# Final verification\necho \"\"\necho \"✅ PYTHON SETUP COMPLETE!\"\necho \"========================\"\npython3 -c \"\nimport sys\nprint(f'🐍 Python: {sys.version.split()[0]}')\nprint(f'📍 Path: {sys.executable}')\nprint(f'🔧 Pip: ', end='')\ntry:\n    import pip\n    print(pip.__version__)\nexcept:\n    print('Not available')\n\"\n\necho \"\"\necho \"🚀 Ready for wheel installation...\"\nbash colab_setup/install_from_wheels.sh"
  },
  {
   "cell_type": "code",
   "source": [
    "!python -c \"import torch; print(torch.__version__); print(torch.version.cuda); print(torch.cuda.is_available())\"\n",
    "from google.colab import output\n",
    "output.eval_js('new Audio(\"https://upload.wikimedia.org/wikipedia/commons/0/05/Beep-09.ogg\").play()')"
   ],
   "metadata": {
    "colab": {
     "base_uri": "https://localhost:8080/",
     "height": 69
    },
    "id": "qLjeDeKD0Jn3",
    "outputId": "a74106e8-a088-42f1-c01c-58b4e2e560c4"
   },
   "execution_count": 9,
   "outputs": [
    {
     "output_type": "stream",
     "name": "stdout",
     "text": [
      "2.7.1+cu126\n",
      "12.6\n",
      "True\n"
     ]
    }
   ]
  },
  {
   "cell_type": "code",
   "source": [
    "# Validate models\n",
    "!python colab_setup/model_validator.py\n",
    "\n",
    "# Start trading\n",
    "#!python trading_advisor.py"
   ],
   "metadata": {
    "colab": {
     "base_uri": "https://localhost:8080/"
    },
    "id": "zXJlK0zGvZ77",
    "outputId": "7d0abd0c-a3d0-4c31-d600-e8d60b3cbea6"
   },
   "execution_count": 10,
   "outputs": [
    {
     "output_type": "stream",
     "name": "stdout",
     "text": [
      "🧪 ModelValidator initialized\n",
      "\n",
      "============================================================\n",
      "🧪 STARTING MODEL VALIDATION SUITE\n",
      "============================================================\n",
      "\n",
      "🔍 Validating DEPENDENCIES...\n",
      "✅ DEPENDENCIES validation PASSED\n",
      "\n",
      "🔍 Validating TEST_DATA...\n",
      "✅ TEST_DATA validation PASSED\n",
      "\n",
      "🔍 Validating TIMESFM...\n",
      "config.json: 100% 692/692 [00:00<00:00, 3.31MB/s]\n",
      "\u001b[32m2025-08-26 05:36:59.700\u001b[0m | \u001b[31m\u001b[1mERROR   \u001b[0m | \u001b[36msrc.models.timesfm_predictor\u001b[0m:\u001b[36m_initialize_model\u001b[0m:\u001b[36m110\u001b[0m - \u001b[31m\u001b[1mFailed to load TimesFM model: The checkpoint you are trying to load has model type `timesfm` but Transformers does not recognize this architecture. This could be because of an issue with the checkpoint, or because your version of Transformers is out of date.\u001b[0m\n",
      "\u001b[32m2025-08-26 05:36:59.701\u001b[0m | \u001b[33m\u001b[1mWARNING \u001b[0m | \u001b[36msrc.models.timesfm_predictor\u001b[0m:\u001b[36m_initialize_model\u001b[0m:\u001b[36m111\u001b[0m - \u001b[33m\u001b[1mFalling back to mock predictions\u001b[0m\n",
      "\u001b[32m2025-08-26 05:36:59.701\u001b[0m | \u001b[1mINFO    \u001b[0m | \u001b[36msrc.models.timesfm_predictor\u001b[0m:\u001b[36m__init__\u001b[0m:\u001b[36m72\u001b[0m - \u001b[1mTimesFM predictor initialized on cuda\u001b[0m\n",
      "\u001b[32m2025-08-26 05:36:59.701\u001b[0m | \u001b[33m\u001b[1mWARNING \u001b[0m | \u001b[36msrc.models.timesfm_predictor\u001b[0m:\u001b[36mpredict\u001b[0m:\u001b[36m223\u001b[0m - \u001b[33m\u001b[1mInsufficient data for TEST_STOCK_1: 500 < 532\u001b[0m\n",
      "\u001b[32m2025-08-26 05:36:59.701\u001b[0m | \u001b[34m\u001b[1mDEBUG   \u001b[0m | \u001b[36msrc.models.timesfm_predictor\u001b[0m:\u001b[36m_mock_prediction\u001b[0m:\u001b[36m359\u001b[0m - \u001b[34m\u001b[1mGenerated mock predictions for TEST_STOCK_1\u001b[0m\n",
      "❌ TIMESFM validation FAILED\n",
      "   Error: Expected dict with 'predictions' key, got <class 'dict'>\n",
      "\n",
      "🔍 Validating TSMAMBA...\n",
      "❌ TSMAMBA validation FAILED\n",
      "   Error: TSMambaPredictor.__init__() got an unexpected keyword argument 'hidden_size'\n",
      "\n",
      "🔍 Validating SAMBA...\n",
      "\u001b[32m2025-08-26 05:37:00.168\u001b[0m | \u001b[1mINFO    \u001b[0m | \u001b[36msrc.models.samba_predictor\u001b[0m:\u001b[36m_build_model\u001b[0m:\u001b[36m270\u001b[0m - \u001b[1mSAMBA architecture built successfully\u001b[0m\n",
      "\u001b[32m2025-08-26 05:37:00.169\u001b[0m | \u001b[1mINFO    \u001b[0m | \u001b[36msrc.models.samba_predictor\u001b[0m:\u001b[36m__init__\u001b[0m:\u001b[36m253\u001b[0m - \u001b[1mSAMBA predictor initialized on cuda\u001b[0m\n",
      "❌ SAMBA validation FAILED\n",
      "   Error: 'SAMBAPredictor' object has no attribute 'predict_batch'\n",
      "\n",
      "🔍 Validating REGIME_DETECTOR...\n",
      "\u001b[32m2025-08-26 05:37:00.229\u001b[0m | \u001b[1mINFO    \u001b[0m | \u001b[36msrc.models.regime_detector\u001b[0m:\u001b[36m__init__\u001b[0m:\u001b[36m99\u001b[0m - \u001b[1mHMM regime detector initialized with 4 regimes\u001b[0m\n",
      "❌ REGIME_DETECTOR validation FAILED\n",
      "   Error: 'HiddenMarkovRegimeDetector' object has no attribute 'fit'\n",
      "\n",
      "🔍 Validating ENSEMBLE...\n",
      "\u001b[32m2025-08-26 05:37:00.264\u001b[0m | \u001b[1mINFO    \u001b[0m | \u001b[36msrc.models.ensemble\u001b[0m:\u001b[36m__init__\u001b[0m:\u001b[36m49\u001b[0m - \u001b[1mInitializing ensemble models...\u001b[0m\n",
      "\u001b[32m2025-08-26 05:37:00.508\u001b[0m | \u001b[31m\u001b[1mERROR   \u001b[0m | \u001b[36msrc.models.timesfm_predictor\u001b[0m:\u001b[36m_initialize_model\u001b[0m:\u001b[36m110\u001b[0m - \u001b[31m\u001b[1mFailed to load TimesFM model: The checkpoint you are trying to load has model type `timesfm` but Transformers does not recognize this architecture. This could be because of an issue with the checkpoint, or because your version of Transformers is out of date.\u001b[0m\n",
      "\u001b[32m2025-08-26 05:37:00.508\u001b[0m | \u001b[33m\u001b[1mWARNING \u001b[0m | \u001b[36msrc.models.timesfm_predictor\u001b[0m:\u001b[36m_initialize_model\u001b[0m:\u001b[36m111\u001b[0m - \u001b[33m\u001b[1mFalling back to mock predictions\u001b[0m\n",
      "\u001b[32m2025-08-26 05:37:00.508\u001b[0m | \u001b[1mINFO    \u001b[0m | \u001b[36msrc.models.timesfm_predictor\u001b[0m:\u001b[36m__init__\u001b[0m:\u001b[36m72\u001b[0m - \u001b[1mTimesFM predictor initialized on cuda\u001b[0m\n",
      "\u001b[32m2025-08-26 05:37:02.184\u001b[0m | \u001b[1mINFO    \u001b[0m | \u001b[36msrc.models.tsmamba_predictor\u001b[0m:\u001b[36m_build_model\u001b[0m:\u001b[36m130\u001b[0m - \u001b[1mTSMamba architecture built successfully\u001b[0m\n",
      "\u001b[32m2025-08-26 05:37:02.184\u001b[0m | \u001b[1mINFO    \u001b[0m | \u001b[36msrc.models.tsmamba_predictor\u001b[0m:\u001b[36m__init__\u001b[0m:\u001b[36m98\u001b[0m - \u001b[1mTSMamba predictor initialized on cuda\u001b[0m\n",
      "\u001b[32m2025-08-26 05:37:02.186\u001b[0m | \u001b[1mINFO    \u001b[0m | \u001b[36msrc.models.samba_predictor\u001b[0m:\u001b[36m_build_model\u001b[0m:\u001b[36m270\u001b[0m - \u001b[1mSAMBA architecture built successfully\u001b[0m\n",
      "\u001b[32m2025-08-26 05:37:02.186\u001b[0m | \u001b[1mINFO    \u001b[0m | \u001b[36msrc.models.samba_predictor\u001b[0m:\u001b[36m__init__\u001b[0m:\u001b[36m253\u001b[0m - \u001b[1mSAMBA predictor initialized on cuda\u001b[0m\n",
      "\u001b[32m2025-08-26 05:37:02.186\u001b[0m | \u001b[1mINFO    \u001b[0m | \u001b[36msrc.models.regime_detector\u001b[0m:\u001b[36m__init__\u001b[0m:\u001b[36m99\u001b[0m - \u001b[1mHMM regime detector initialized with 4 regimes\u001b[0m\n",
      "\u001b[32m2025-08-26 05:37:02.186\u001b[0m | \u001b[1mINFO    \u001b[0m | \u001b[36msrc.models.uncertainty\u001b[0m:\u001b[36m__init__\u001b[0m:\u001b[36m82\u001b[0m - \u001b[1mConformalPredictor initialized with method=plus, alpha=0.1\u001b[0m\n",
      "\u001b[32m2025-08-26 05:37:02.186\u001b[0m | \u001b[1mINFO    \u001b[0m | \u001b[36msrc.models.ensemble\u001b[0m:\u001b[36m__init__\u001b[0m:\u001b[36m108\u001b[0m - \u001b[1mEnsemble initialized with weights: {'timesfm': 0.5, 'tsmamba': 0.3, 'samba': 0.2}\u001b[0m\n",
      "❌ ENSEMBLE validation FAILED\n",
      "   Error: unhashable type: 'numpy.ndarray'\n",
      "\n",
      "🔍 Validating MAPIE_INTEGRATION...\n",
      "❌ MAPIE_INTEGRATION validation FAILED\n",
      "   Error: MAPIE output shapes incorrect: y_pred=(5,), y_pis=(5, 2, 1), expected X_test len=5\n",
      "\n",
      "🔍 Validating END_TO_END...\n",
      "\u001b[32m2025-08-26 05:37:02.260\u001b[0m | \u001b[1mINFO    \u001b[0m | \u001b[36msrc.models.ensemble\u001b[0m:\u001b[36m__init__\u001b[0m:\u001b[36m49\u001b[0m - \u001b[1mInitializing ensemble models...\u001b[0m\n",
      "\u001b[32m2025-08-26 05:37:02.502\u001b[0m | \u001b[31m\u001b[1mERROR   \u001b[0m | \u001b[36msrc.models.timesfm_predictor\u001b[0m:\u001b[36m_initialize_model\u001b[0m:\u001b[36m110\u001b[0m - \u001b[31m\u001b[1mFailed to load TimesFM model: The checkpoint you are trying to load has model type `timesfm` but Transformers does not recognize this architecture. This could be because of an issue with the checkpoint, or because your version of Transformers is out of date.\u001b[0m\n",
      "\u001b[32m2025-08-26 05:37:02.502\u001b[0m | \u001b[33m\u001b[1mWARNING \u001b[0m | \u001b[36msrc.models.timesfm_predictor\u001b[0m:\u001b[36m_initialize_model\u001b[0m:\u001b[36m111\u001b[0m - \u001b[33m\u001b[1mFalling back to mock predictions\u001b[0m\n",
      "\u001b[32m2025-08-26 05:37:02.502\u001b[0m | \u001b[1mINFO    \u001b[0m | \u001b[36msrc.models.timesfm_predictor\u001b[0m:\u001b[36m__init__\u001b[0m:\u001b[36m72\u001b[0m - \u001b[1mTimesFM predictor initialized on cuda\u001b[0m\n",
      "\u001b[32m2025-08-26 05:37:02.540\u001b[0m | \u001b[1mINFO    \u001b[0m | \u001b[36msrc.models.tsmamba_predictor\u001b[0m:\u001b[36m_build_model\u001b[0m:\u001b[36m130\u001b[0m - \u001b[1mTSMamba architecture built successfully\u001b[0m\n",
      "\u001b[32m2025-08-26 05:37:02.540\u001b[0m | \u001b[1mINFO    \u001b[0m | \u001b[36msrc.models.tsmamba_predictor\u001b[0m:\u001b[36m__init__\u001b[0m:\u001b[36m98\u001b[0m - \u001b[1mTSMamba predictor initialized on cuda\u001b[0m\n",
      "\u001b[32m2025-08-26 05:37:02.543\u001b[0m | \u001b[1mINFO    \u001b[0m | \u001b[36msrc.models.samba_predictor\u001b[0m:\u001b[36m_build_model\u001b[0m:\u001b[36m270\u001b[0m - \u001b[1mSAMBA architecture built successfully\u001b[0m\n",
      "\u001b[32m2025-08-26 05:37:02.543\u001b[0m | \u001b[1mINFO    \u001b[0m | \u001b[36msrc.models.samba_predictor\u001b[0m:\u001b[36m__init__\u001b[0m:\u001b[36m253\u001b[0m - \u001b[1mSAMBA predictor initialized on cuda\u001b[0m\n",
      "\u001b[32m2025-08-26 05:37:02.543\u001b[0m | \u001b[1mINFO    \u001b[0m | \u001b[36msrc.models.regime_detector\u001b[0m:\u001b[36m__init__\u001b[0m:\u001b[36m99\u001b[0m - \u001b[1mHMM regime detector initialized with 4 regimes\u001b[0m\n",
      "\u001b[32m2025-08-26 05:37:02.543\u001b[0m | \u001b[1mINFO    \u001b[0m | \u001b[36msrc.models.uncertainty\u001b[0m:\u001b[36m__init__\u001b[0m:\u001b[36m82\u001b[0m - \u001b[1mConformalPredictor initialized with method=plus, alpha=0.1\u001b[0m\n",
      "\u001b[32m2025-08-26 05:37:02.543\u001b[0m | \u001b[1mINFO    \u001b[0m | \u001b[36msrc.models.ensemble\u001b[0m:\u001b[36m__init__\u001b[0m:\u001b[36m108\u001b[0m - \u001b[1mEnsemble initialized with weights: {'timesfm': 0.5, 'tsmamba': 0.3, 'samba': 0.2}\u001b[0m\n",
      "\u001b[32m2025-08-26 05:37:02.543\u001b[0m | \u001b[1mINFO    \u001b[0m | \u001b[36msrc.models.uncertainty\u001b[0m:\u001b[36m__init__\u001b[0m:\u001b[36m445\u001b[0m - \u001b[1mTradingUncertaintyFilter initialized with thresholds: width<3.0%, conf>75.0%\u001b[0m\n",
      "\u001b[32m2025-08-26 05:37:02.543\u001b[0m | \u001b[1mINFO    \u001b[0m | \u001b[36msrc.trading.signal_generator\u001b[0m:\u001b[36m__init__\u001b[0m:\u001b[36m101\u001b[0m - \u001b[1mSignal generator initialized with 3 timeframes\u001b[0m\n",
      "\u001b[32m2025-08-26 05:37:02.655\u001b[0m | \u001b[1mINFO    \u001b[0m | \u001b[36msrc.models.regime_detector\u001b[0m:\u001b[36mdetect_regime\u001b[0m:\u001b[36m248\u001b[0m - \u001b[1mDetected regime: bull_trend (confidence: 1.00)\u001b[0m\n",
      "\u001b[32m2025-08-26 05:37:02.655\u001b[0m | \u001b[1mINFO    \u001b[0m | \u001b[36msrc.models.ensemble\u001b[0m:\u001b[36m_adapt_mapie_for_regime\u001b[0m:\u001b[36m289\u001b[0m - \u001b[1mAdapting MAPIE alpha for bull_trend: 0.100 → 0.115\u001b[0m\n",
      "\u001b[32m2025-08-26 05:37:02.655\u001b[0m | \u001b[33m\u001b[1mWARNING \u001b[0m | \u001b[36msrc.models.timesfm_predictor\u001b[0m:\u001b[36mpredict\u001b[0m:\u001b[36m223\u001b[0m - \u001b[33m\u001b[1mInsufficient data for TEST_STOCK_1: 500 < 532\u001b[0m\n",
      "\u001b[32m2025-08-26 05:37:02.655\u001b[0m | \u001b[34m\u001b[1mDEBUG   \u001b[0m | \u001b[36msrc.models.timesfm_predictor\u001b[0m:\u001b[36m_mock_prediction\u001b[0m:\u001b[36m359\u001b[0m - \u001b[34m\u001b[1mGenerated mock predictions for TEST_STOCK_1\u001b[0m\n",
      "/content/src/models/tsmamba_predictor.py:150: FutureWarning: DataFrame.fillna with 'method' is deprecated and will raise in a future version. Use obj.ffill() or obj.bfill() instead.\n",
      "  features = features.fillna(method='ffill').fillna(method='bfill')\n",
      "\u001b[32m2025-08-26 05:37:03.132\u001b[0m | \u001b[34m\u001b[1mDEBUG   \u001b[0m | \u001b[36msrc.models.tsmamba_predictor\u001b[0m:\u001b[36mpredict\u001b[0m:\u001b[36m281\u001b[0m - \u001b[34m\u001b[1mGenerated TSMamba predictions for TEST_STOCK_1\u001b[0m\n",
      "\u001b[32m2025-08-26 05:37:03.680\u001b[0m | \u001b[34m\u001b[1mDEBUG   \u001b[0m | \u001b[36msrc.models.ensemble\u001b[0m:\u001b[36mpredict\u001b[0m:\u001b[36m492\u001b[0m - \u001b[34m\u001b[1mGenerated ensemble prediction for TEST_STOCK_1\u001b[0m\n",
      "\u001b[32m2025-08-26 05:37:03.681\u001b[0m | \u001b[34m\u001b[1mDEBUG   \u001b[0m | \u001b[36msrc.trading.signal_generator\u001b[0m:\u001b[36m_generate_single_signal\u001b[0m:\u001b[36m201\u001b[0m - \u001b[34m\u001b[1mLow confidence for TEST_STOCK_1 1d: 67.5%\u001b[0m\n",
      "\u001b[32m2025-08-26 05:37:03.681\u001b[0m | \u001b[1mINFO    \u001b[0m | \u001b[36msrc.models.ensemble\u001b[0m:\u001b[36m_adapt_mapie_for_regime\u001b[0m:\u001b[36m289\u001b[0m - \u001b[1mAdapting MAPIE alpha for bull_trend: 0.115 → 0.126\u001b[0m\n",
      "\u001b[32m2025-08-26 05:37:03.681\u001b[0m | \u001b[33m\u001b[1mWARNING \u001b[0m | \u001b[36msrc.models.timesfm_predictor\u001b[0m:\u001b[36mpredict\u001b[0m:\u001b[36m223\u001b[0m - \u001b[33m\u001b[1mInsufficient data for TEST_STOCK_2: 500 < 532\u001b[0m\n",
      "\u001b[32m2025-08-26 05:37:03.681\u001b[0m | \u001b[34m\u001b[1mDEBUG   \u001b[0m | \u001b[36msrc.models.timesfm_predictor\u001b[0m:\u001b[36m_mock_prediction\u001b[0m:\u001b[36m359\u001b[0m - \u001b[34m\u001b[1mGenerated mock predictions for TEST_STOCK_2\u001b[0m\n",
      "/content/src/models/tsmamba_predictor.py:150: FutureWarning: DataFrame.fillna with 'method' is deprecated and will raise in a future version. Use obj.ffill() or obj.bfill() instead.\n",
      "  features = features.fillna(method='ffill').fillna(method='bfill')\n",
      "\u001b[32m2025-08-26 05:37:03.695\u001b[0m | \u001b[34m\u001b[1mDEBUG   \u001b[0m | \u001b[36msrc.models.tsmamba_predictor\u001b[0m:\u001b[36mpredict\u001b[0m:\u001b[36m281\u001b[0m - \u001b[34m\u001b[1mGenerated TSMamba predictions for TEST_STOCK_2\u001b[0m\n",
      "\u001b[32m2025-08-26 05:37:03.700\u001b[0m | \u001b[34m\u001b[1mDEBUG   \u001b[0m | \u001b[36msrc.models.ensemble\u001b[0m:\u001b[36mpredict\u001b[0m:\u001b[36m492\u001b[0m - \u001b[34m\u001b[1mGenerated ensemble prediction for TEST_STOCK_2\u001b[0m\n",
      "\u001b[32m2025-08-26 05:37:03.700\u001b[0m | \u001b[34m\u001b[1mDEBUG   \u001b[0m | \u001b[36msrc.trading.signal_generator\u001b[0m:\u001b[36m_generate_single_signal\u001b[0m:\u001b[36m201\u001b[0m - \u001b[34m\u001b[1mLow confidence for TEST_STOCK_2 1d: 67.5%\u001b[0m\n",
      "\u001b[32m2025-08-26 05:37:03.700\u001b[0m | \u001b[33m\u001b[1mWARNING \u001b[0m | \u001b[36msrc.models.timesfm_predictor\u001b[0m:\u001b[36mpredict\u001b[0m:\u001b[36m223\u001b[0m - \u001b[33m\u001b[1mInsufficient data for TEST_STOCK_3: 500 < 532\u001b[0m\n",
      "\u001b[32m2025-08-26 05:37:03.700\u001b[0m | \u001b[34m\u001b[1mDEBUG   \u001b[0m | \u001b[36msrc.models.timesfm_predictor\u001b[0m:\u001b[36m_mock_prediction\u001b[0m:\u001b[36m359\u001b[0m - \u001b[34m\u001b[1mGenerated mock predictions for TEST_STOCK_3\u001b[0m\n",
      "/content/src/models/tsmamba_predictor.py:150: FutureWarning: DataFrame.fillna with 'method' is deprecated and will raise in a future version. Use obj.ffill() or obj.bfill() instead.\n",
      "  features = features.fillna(method='ffill').fillna(method='bfill')\n",
      "\u001b[32m2025-08-26 05:37:03.712\u001b[0m | \u001b[34m\u001b[1mDEBUG   \u001b[0m | \u001b[36msrc.models.tsmamba_predictor\u001b[0m:\u001b[36mpredict\u001b[0m:\u001b[36m281\u001b[0m - \u001b[34m\u001b[1mGenerated TSMamba predictions for TEST_STOCK_3\u001b[0m\n",
      "\u001b[32m2025-08-26 05:37:03.717\u001b[0m | \u001b[34m\u001b[1mDEBUG   \u001b[0m | \u001b[36msrc.models.ensemble\u001b[0m:\u001b[36mpredict\u001b[0m:\u001b[36m492\u001b[0m - \u001b[34m\u001b[1mGenerated ensemble prediction for TEST_STOCK_3\u001b[0m\n",
      "\u001b[32m2025-08-26 05:37:03.718\u001b[0m | \u001b[34m\u001b[1mDEBUG   \u001b[0m | \u001b[36msrc.trading.signal_generator\u001b[0m:\u001b[36m_generate_single_signal\u001b[0m:\u001b[36m201\u001b[0m - \u001b[34m\u001b[1mLow confidence for TEST_STOCK_3 1d: 67.5%\u001b[0m\n",
      "\u001b[32m2025-08-26 05:37:03.718\u001b[0m | \u001b[1mINFO    \u001b[0m | \u001b[36msrc.trading.signal_generator\u001b[0m:\u001b[36mgenerate_signals\u001b[0m:\u001b[36m149\u001b[0m - \u001b[1mGenerated signals for 0 tickers\u001b[0m\n",
      "❌ END_TO_END validation FAILED\n",
      "   Error: No signals generated\n",
      "\n",
      "============================================================\n",
      "📋 MODEL VALIDATION REPORT\n",
      "============================================================\n",
      "📅 Validation Time: 2025-08-26T05:36:54.546002\n",
      "⏱️  Total Duration: 9.2 seconds\n",
      "🧪 Tests Run: 9\n",
      "✅ Passed: 2\n",
      "❌ Failed: 7\n",
      "📊 Success Rate: 22.2%\n",
      "\n",
      "⚠️ OVERALL STATUS: PARTIAL SUCCESS\n",
      "Some models failed validation - check details below\n",
      "\n",
      "📋 Component Details:\n",
      "  ✅ PASS DEPENDENCIES\n",
      "       ✅ torch v2.7.1+cu126\n",
      "       ✅ transformers v4.44.0\n",
      "       ✅ mamba_ssm v2.2.5\n",
      "  ✅ PASS TEST_DATA\n",
      "       Generated test data for 3 stocks\n",
      "       Each stock has 500 days of OHLCV data\n",
      "       Data covers period from 2022-01-01 to 2023-05-15\n",
      "  ❌ FAIL TIMESFM\n",
      "       TimesFM predictor initialized\n",
      "       Generated predictions for TEST_STOCK_1\n",
      "       Error: Expected dict with 'predictions' key, got <class 'dict'>\n",
      "  ❌ FAIL TSMAMBA\n",
      "       Error: TSMambaPredictor.__init__() got an unexpected keyword argument 'hidden_size'\n",
      "  ❌ FAIL SAMBA\n",
      "       Error: 'SAMBAPredictor' object has no attribute 'predict_batch'\n",
      "  ❌ FAIL REGIME_DETECTOR\n",
      "       Error: 'HiddenMarkovRegimeDetector' object has no attribute 'fit'\n",
      "  ❌ FAIL ENSEMBLE\n",
      "       Error: unhashable type: 'numpy.ndarray'\n",
      "  ❌ FAIL MAPIE_INTEGRATION\n",
      "       MAPIE successfully imported\n",
      "       MAPIE training on 85 samples\n",
      "       Generated predictions with intervals for 5 samples\n",
      "       Error: MAPIE output shapes incorrect: y_pred=(5,), y_pis=(5, 2, 1), expected X_test len=5\n",
      "  ❌ FAIL END_TO_END\n",
      "       Signal generator imported\n",
      "       Signal generator initialized\n",
      "       Generated signals for 0 stocks\n",
      "       Error: No signals generated\n",
      "\n",
      "🔍 Critical Findings:\n",
      "  ✅ No mock modes detected\n",
      "  ✅ No LSTM fallbacks detected\n",
      "\n",
      "💡 Recommendations:\n",
      "  🔧 Fix failing components before using for trading\n",
      "  📖 Check ROADMAP.md for dependency installation guide\n",
      "  🔄 Re-run validation after fixes: python -m colab_setup.model_validator\n",
      "============================================================\n"
     ]
    }
   ]
  }
 ],
 "metadata": {
  "colab": {
   "provenance": [],
   "gpuType": "T4"
  },
  "kernelspec": {
   "display_name": "Python 3",
   "name": "python3"
  },
  "language_info": {
   "name": "python"
  },
  "accelerator": "GPU"
 },
 "nbformat": 4,
 "nbformat_minor": 0
}